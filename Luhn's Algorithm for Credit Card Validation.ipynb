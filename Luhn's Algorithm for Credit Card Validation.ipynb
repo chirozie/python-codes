{
 "cells": [
  {
   "cell_type": "markdown",
   "metadata": {},
   "source": [
    "## Implementing Luhn's Algorithm to validate a credit card number\n",
    "\n",
    "#### Luhn's Algorithm is made up of the following steps:\n",
    "    1. Starting form the 2nd to the last digit, multiply every 2nd digit by 2 and add the digits in this these products       together as partial sum1.\n",
    "    2. Add partial sum1 to the sum of all the other numbers that were not multiplied by 2.\n",
    "    3. Divide this new sum by 10. If the remainder is 0, then the credit card is valid, otherwise, creidt card is invalid"
   ]
  },
  {
   "cell_type": "code",
   "execution_count": 59,
   "metadata": {},
   "outputs": [],
   "source": [
    "def cred_validate(credit_card_number):\n",
    "    multiplied = []                      # this block is to create empty lists \n",
    "    not_multiplied = []                  # and create a list with the credit card digits\n",
    "    str(credit_card_number)\n",
    "    my_list = [int(d) for d in str(credit_card_number)]\n",
    "    \n",
    "    while my_list != []:\n",
    "        move1 = my_list[-1]\n",
    "        not_multiplied.append(move1)\n",
    "        \n",
    "        if len(my_list) > 1:             # using this if statement to account for odd numbered \n",
    "            move2 = my_list[-2] * 2      # credit cards\n",
    "            multiplied.append(move2)\n",
    "        \n",
    "        if len(my_list) >1:\n",
    "            del my_list[-2:]\n",
    "        else:\n",
    "            del my_list[-1]\n",
    "        \n",
    "    strings = [str(i) for i in multiplied]     # this block of code is to extract \n",
    "    strings = \"\".join(strings)                 # the digits in the products\n",
    "    multiplied2 = [int(d) for d in strings]\n",
    "    \n",
    "    my_sum = sum(multiplied2) + sum(not_multiplied)\n",
    "    \n",
    "    if my_sum % 10 == 0:\n",
    "        print('Valid Credit Card number')\n",
    "    else:\n",
    "        print('Invalid Credit Card number')\n",
    "        "
   ]
  },
  {
   "cell_type": "code",
   "execution_count": 60,
   "metadata": {},
   "outputs": [
    {
     "name": "stdout",
     "output_type": "stream",
     "text": [
      "Valid Credit Card number\n"
     ]
    }
   ],
   "source": [
    "cred_validate(5399232072036467)"
   ]
  },
  {
   "cell_type": "code",
   "execution_count": 61,
   "metadata": {},
   "outputs": [
    {
     "name": "stdout",
     "output_type": "stream",
     "text": [
      "Invalid Credit Card number\n"
     ]
    }
   ],
   "source": [
    "cred_validate(1234567898766754)"
   ]
  },
  {
   "cell_type": "code",
   "execution_count": 62,
   "metadata": {},
   "outputs": [
    {
     "name": "stdout",
     "output_type": "stream",
     "text": [
      "Valid Credit Card number\n"
     ]
    }
   ],
   "source": [
    "cred_validate(49927398716)"
   ]
  },
  {
   "cell_type": "code",
   "execution_count": 63,
   "metadata": {},
   "outputs": [
    {
     "name": "stdout",
     "output_type": "stream",
     "text": [
      "Invalid Credit Card number\n"
     ]
    }
   ],
   "source": [
    "cred_validate(49927398717)"
   ]
  },
  {
   "cell_type": "code",
   "execution_count": null,
   "metadata": {},
   "outputs": [],
   "source": []
  }
 ],
 "metadata": {
  "kernelspec": {
   "display_name": "Python 3",
   "language": "python",
   "name": "python3"
  },
  "language_info": {
   "codemirror_mode": {
    "name": "ipython",
    "version": 3
   },
   "file_extension": ".py",
   "mimetype": "text/x-python",
   "name": "python",
   "nbconvert_exporter": "python",
   "pygments_lexer": "ipython3",
   "version": "3.7.4"
  }
 },
 "nbformat": 4,
 "nbformat_minor": 2
}
