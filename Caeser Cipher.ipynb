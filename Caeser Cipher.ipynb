{
 "cells": [
  {
   "cell_type": "markdown",
   "metadata": {},
   "source": [
    "## This is a code to implement a Caeser Cipher"
   ]
  },
  {
   "cell_type": "code",
   "execution_count": 77,
   "metadata": {},
   "outputs": [],
   "source": [
    "def encrypt(message, num):\n",
    "        '''To encrypt a message by shifting the letters of the message\n",
    "            by any number of indexing in the letters of the alphabet'''\n",
    "        \n",
    "        letters = 'abcdefghijklmnopqrstuvwxyz'   # to establish our letters of the alphabet\n",
    "        encrypted_message = ''\n",
    "        for char in message.lower():    # to convert to lowercase incase user inputs uppercase\n",
    "            if char not in letters:\n",
    "                encrypted_message = encrypted_message + char    # to keep punctuations and spaces constant\n",
    "            else:\n",
    "                alpha_index = letters.find(char) # using find method to find index of char in letters\n",
    "                added = alpha_index + num\n",
    "                if added > 25:\n",
    "                    added2 = added % 26     # to start from beginning to count if index exceeds letter Z or 26\n",
    "                    encrypted_message = encrypted_message + letters[added2]\n",
    "                else:\n",
    "                    encrypted_message = encrypted_message + letters[added]\n",
    "        return encrypted_message"
   ]
  },
  {
   "cell_type": "code",
   "execution_count": 70,
   "metadata": {},
   "outputs": [],
   "source": [
    "def decrypt(message, num):\n",
    "        '''To dencrypt a message encrypted by my encrypt function'''\n",
    "        \n",
    "        letters = 'abcdefghijklmnopqrstuvwxyz'   # to establish our letters of the alphabet\n",
    "        decrypted_message = ''\n",
    "        for char in message.lower():    # to convert to lowercase incase user inputs uppercase\n",
    "            if char not in letters:\n",
    "                decrypted_message = decrypted_message + char    # to keep punctuations and spaces constant\n",
    "            else:\n",
    "                alpha_index = letters.find(char) # using find method to find index of char in letters\n",
    "                added = alpha_index - num\n",
    "                if added < 0 :\n",
    "                    added2 = added % 26     # to start from beginning to count if index goes below 0 or letter a\n",
    "                    decrypted_message = decrypted_message + letters[added2]\n",
    "                else:\n",
    "                    decrypted_message = decrypted_message + letters[added]\n",
    "        return decrypted_message"
   ]
  },
  {
   "cell_type": "code",
   "execution_count": null,
   "metadata": {},
   "outputs": [],
   "source": []
  }
 ],
 "metadata": {
  "kernelspec": {
   "display_name": "Python 3",
   "language": "python",
   "name": "python3"
  },
  "language_info": {
   "codemirror_mode": {
    "name": "ipython",
    "version": 3
   },
   "file_extension": ".py",
   "mimetype": "text/x-python",
   "name": "python",
   "nbconvert_exporter": "python",
   "pygments_lexer": "ipython3",
   "version": "3.7.4"
  }
 },
 "nbformat": 4,
 "nbformat_minor": 2
}
